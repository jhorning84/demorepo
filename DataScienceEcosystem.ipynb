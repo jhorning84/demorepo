{
 "cells": [
  {
   "cell_type": "markdown",
   "id": "4ba99775-a14e-47d8-b9d2-0d57cee455c5",
   "metadata": {},
   "source": [
    "# Data Science Tools and Ecosystem"
   ]
  },
  {
   "cell_type": "markdown",
   "id": "8e3cfd36-c1b8-433d-b8e3-7932f9f2a908",
   "metadata": {},
   "source": [
    "This notebook summarizes available data science tools and ecosystems."
   ]
  },
  {
   "cell_type": "markdown",
   "id": "8c8f08b1-c088-4675-bcf9-52b77bdb80c7",
   "metadata": {},
   "source": [
    "**Objectives**\n",
    "- List some popular data science languages\n",
    "- List some commonly used data science libraries\n",
    "- List some open source data science tools\n",
    "- Demonstrate facility with arithmetic expressions in Python"
   ]
  },
  {
   "cell_type": "markdown",
   "id": "02eb2be2-9a39-47a7-ab76-b09eef4f713d",
   "metadata": {},
   "source": [
    "Some of the most popular data science languages are:\n",
    "1. Python\n",
    "2. R\n",
    "3. SQL"
   ]
  },
  {
   "cell_type": "markdown",
   "id": "0c0c3a8a-1f00-4a93-827a-5c00ddfa41dc",
   "metadata": {},
   "source": [
    "Some of the commonly used libraries in data science include:\n",
    "1. Tensorflow\n",
    "2. Matlib\n",
    "3. Pandas"
   ]
  },
  {
   "cell_type": "markdown",
   "id": "81665497-d68a-4977-b58d-0d5b040d947a",
   "metadata": {},
   "source": [
    "| Data Science Tools |\n",
    "|--------------------|\n",
    "| R Studio |\n",
    "| Spark |\n",
    "| Watson Studio |"
   ]
  },
  {
   "cell_type": "markdown",
   "id": "5ff2977b-902a-4bdd-9e68-af861bfe1a16",
   "metadata": {},
   "source": [
    "### Below are a few examples of evaluating arithmetic expressions in Python"
   ]
  },
  {
   "cell_type": "code",
   "execution_count": 1,
   "id": "f4a0c941-28d1-428a-b527-8b874f9fedc8",
   "metadata": {},
   "outputs": [
    {
     "data": {
      "text/plain": [
       "17"
      ]
     },
     "execution_count": 1,
     "metadata": {},
     "output_type": "execute_result"
    }
   ],
   "source": [
    "# This a simple arithmetic expression to mutiply then add integers\n",
    "(3*4)+5"
   ]
  },
  {
   "cell_type": "code",
   "execution_count": 2,
   "id": "acbd3243-5281-46b2-8f3f-0ac0cae3803a",
   "metadata": {},
   "outputs": [
    {
     "data": {
      "text/plain": [
       "3.3333333333333335"
      ]
     },
     "execution_count": 2,
     "metadata": {},
     "output_type": "execute_result"
    }
   ],
   "source": [
    "# This will convert 200 minutes to hours by diving by 60\n",
    "200/60"
   ]
  },
  {
   "cell_type": "markdown",
   "id": "b684efae-9e1a-4c99-a69a-9e0a82c27547",
   "metadata": {},
   "source": [
    "## Author\n",
    "Jessica Horning"
   ]
  }
 ],
 "metadata": {
  "kernelspec": {
   "display_name": "Python",
   "language": "python",
   "name": "conda-env-python-py"
  },
  "language_info": {
   "codemirror_mode": {
    "name": "ipython",
    "version": 3
   },
   "file_extension": ".py",
   "mimetype": "text/x-python",
   "name": "python",
   "nbconvert_exporter": "python",
   "pygments_lexer": "ipython3",
   "version": "3.7.12"
  }
 },
 "nbformat": 4,
 "nbformat_minor": 5
}
